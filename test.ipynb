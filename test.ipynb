{
 "cells": [
  {
   "cell_type": "code",
   "execution_count": 3,
   "metadata": {},
   "outputs": [
    {
     "name": "stdout",
     "output_type": "stream",
     "text": [
      "Quantum mechanics is a branch of physics that describes the behavior of matter and energy at an atomic and subatomic level, where particles can exist in multiple states simultaneously and be connected across vast distances through entanglement. At this scale, classical notions of space and time no longer apply, and phenomena such as superposition, wave-particle duality, and uncertainty principle govern the behavior of quantum systems. Quantum mechanics has been experimentally confirmed numerous times, but its underlying principles remain fundamentally mysterious and continue to be the subject of ongoing research and debate.\n"
     ]
    }
   ],
   "source": [
    "from langchain_community.llms import Ollama\n",
    "\n",
    "# Initialize Ollama\n",
    "llm = Ollama(model=\"llama3.2:3b\")  # e.g., \"llama2\", \"mistral\"\n",
    "\n",
    "# Generate text\n",
    "response = llm.invoke(\"Explain quantum mechanics in 3 sentences.\")\n",
    "print(response)"
   ]
  },
  {
   "cell_type": "code",
   "execution_count": 4,
   "metadata": {},
   "outputs": [
    {
     "name": "stdout",
     "output_type": "stream",
     "text": [
      "For an Indian restaurant, I'd suggest the following fancy name:\n",
      "\n",
      "\"Tandoori Bliss\"\n",
      "\n",
      "This name combines the rich cultural heritage of India (Tandoor being a traditional clay oven) with a sense of indulgence and pleasure (Bliss). It's catchy, memorable, and evokes a warm, inviting atmosphere - perfect for a high-end Indian dining experience!\n"
     ]
    }
   ],
   "source": [
    "from langchain_community.llms import Ollama\n",
    "\n",
    "llm = Ollama(model=\"llama3.2:3b\", temperature=0.7)\n",
    "name = llm(\"I want to open a Indian Restaurant please suggest me only one fancy name for the same\")\n",
    "print(name)"
   ]
  },
  {
   "cell_type": "code",
   "execution_count": 5,
   "metadata": {},
   "outputs": [
    {
     "data": {
      "text/plain": [
       "'I want to open a Mexican Restaurant. Please suggest me only one fancy name for the same, no explanation just name'"
      ]
     },
     "execution_count": 5,
     "metadata": {},
     "output_type": "execute_result"
    }
   ],
   "source": [
    "from langchain.prompts import PromptTemplate\n",
    "\n",
    "prompt_template_res_name = PromptTemplate(\n",
    "    input_variables=['cuisine'],\n",
    "    template= \"I want to open a {cuisine} Restaurant. Please suggest me only one fancy name for the same, no explanation just name\"\n",
    ")\n",
    "prompt_template_res_name.format(cuisine=\"Mexican\")"
   ]
  },
  {
   "cell_type": "code",
   "execution_count": 6,
   "metadata": {},
   "outputs": [
    {
     "name": "stderr",
     "output_type": "stream",
     "text": [
      "/var/folders/60/fv77t6m12w10lpgqfwccmxjh0000gn/T/ipykernel_18038/3616258276.py:3: LangChainDeprecationWarning: The class `LLMChain` was deprecated in LangChain 0.1.17 and will be removed in 1.0. Use :meth:`~RunnableSequence, e.g., `prompt | llm`` instead.\n",
      "  chain = LLMChain(llm=llm, prompt=prompt_template_res_name)\n",
      "/var/folders/60/fv77t6m12w10lpgqfwccmxjh0000gn/T/ipykernel_18038/3616258276.py:4: LangChainDeprecationWarning: The method `Chain.run` was deprecated in langchain 0.1.0 and will be removed in 1.0. Use :meth:`~invoke` instead.\n",
      "  chain.run(\"American\")\n"
     ]
    },
    {
     "data": {
      "text/plain": [
       "'\"Liberty Bistro\"'"
      ]
     },
     "execution_count": 6,
     "metadata": {},
     "output_type": "execute_result"
    }
   ],
   "source": [
    "from langchain.chains import LLMChain\n",
    "\n",
    "chain = LLMChain(llm=llm, prompt=prompt_template_res_name)\n",
    "chain.run(\"American\")"
   ]
  },
  {
   "cell_type": "code",
   "execution_count": 7,
   "metadata": {},
   "outputs": [],
   "source": [
    "llm = Ollama(model=\"llama3.2:3b\", temperature=0.7)\n",
    "\n",
    "prompt_template_res_name = PromptTemplate(\n",
    "    input_variables=['cuisine'],\n",
    "    template= \"I want to open a {cuisine} Restaurant. Please suggest me only one fancy name for the same, no explanation just name\"\n",
    ")\n",
    "name_chain = LLMChain(llm=llm,prompt=prompt_template_res_name)\n",
    "\n",
    "prompt_template_menu_items = PromptTemplate(\n",
    "    input_variables=['restaurant_name'],\n",
    "    template= \"Suggest me some menu items for {restaurant_name}. Return it as a comma separated list\"\n",
    ")\n",
    "food_items_chain = LLMChain(llm=llm,prompt=prompt_template_menu_items)"
   ]
  },
  {
   "cell_type": "code",
   "execution_count": null,
   "metadata": {},
   "outputs": [],
   "source": [
    "from langchain.chains import SimpleSequentialChain\n",
    "\n",
    "chain = SimpleSequentialChain(chains = [name_chain,food_items_chain])\n",
    "response = chain.run(\"American\")\n",
    "print(response)"
   ]
  },
  {
   "cell_type": "code",
   "execution_count": null,
   "metadata": {},
   "outputs": [],
   "source": [
    "llm = Ollama(model=\"llama3.2:3b\", temperature=0.7)\n",
    "\n",
    "prompt_template_res_name = PromptTemplate(\n",
    "    input_variables=['cuisine'],\n",
    "    template= \"I want to open a {cuisine} Restaurant. Please suggest me only one fancy name for the same, no explanation just name\"\n",
    ")\n",
    "name_chain = LLMChain(llm=llm,prompt=prompt_template_res_name, output_key = \"restaurant_name\")\n",
    "\n",
    "llm = Ollama(model=\"llama3.2:3b\", temperature=0.7)\n",
    "prompt_template_menu_items = PromptTemplate(\n",
    "    input_variables=['restaurant_name'],\n",
    "    template= \"Suggest me some menu items for {restaurant_name}. Return it as a comma separated list\"\n",
    ")\n",
    "food_items_chain = LLMChain(llm=llm,prompt=prompt_template_menu_items, output_key = \"menu_items\")"
   ]
  },
  {
   "cell_type": "code",
   "execution_count": null,
   "metadata": {},
   "outputs": [
    {
     "data": {
      "text/plain": [
       "{'cuisine': 'Arabian',\n",
       " 'restaurant_name': '\"Al-Rasoul\"',\n",
       " 'menu_items': 'I\\'d be happy to help you with some menu item suggestions for \"Al-Rasoul\"! Since I don\\'t have specific information about the restaurant or cuisine, I\\'ll provide some general Middle Eastern-inspired dishes that might fit well with an Arabic name like Al-Rasoul. Here\\'s a list of menu items:\\n\\nShawarma wraps, falafel plates, hummus platters, tabbouleh salads, grilled kebabs, machboos rice bowls, kibbeh patties, gormeh sabzi stews, baba ganoush dips, and baklava desserts.\\n\\nPlease note that this is just a suggestion, and the actual menu items may vary depending on the restaurant\\'s concept and offerings.'}"
      ]
     },
     "execution_count": 30,
     "metadata": {},
     "output_type": "execute_result"
    }
   ],
   "source": [
    "from langchain.chains import SequentialChain\n",
    "\n",
    "chain = SequentialChain(\n",
    "    chains = [name_chain,food_items_chain],\n",
    "    input_variables = ['cuisine'],\n",
    "    output_variables = ['restaurant_name','menu_items']\n",
    ")\n",
    "chain({'cuisine':'Arabian'})"
   ]
  }
 ],
 "metadata": {
  "kernelspec": {
   "display_name": ".venv",
   "language": "python",
   "name": "python3"
  },
  "language_info": {
   "codemirror_mode": {
    "name": "ipython",
    "version": 3
   },
   "file_extension": ".py",
   "mimetype": "text/x-python",
   "name": "python",
   "nbconvert_exporter": "python",
   "pygments_lexer": "ipython3",
   "version": "3.12.4"
  }
 },
 "nbformat": 4,
 "nbformat_minor": 2
}
